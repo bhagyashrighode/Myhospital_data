{
 "cells": [
  {
   "cell_type": "code",
   "execution_count": 10,
   "metadata": {},
   "outputs": [
    {
     "name": "stdout",
     "output_type": "stream",
     "text": [
      "('Alex', '123457', 20101012, 20121013, 'MVD', 'Paul', 'SA', 'USA', '', 6031987, 'A')\n",
      "('John', '123458', 20101012, 20121013, 'MVD', '', 'TN', 'IND', '', 6031987, 'A')\n",
      "('Mathew', '123459', 20101012, 20121013, 'MVD', '', 'WAS', 'PHIL', '', 6031987, 'A')\n",
      "('Matt', '12345', 20101012, 20121013, 'MVD', '', 'BOS', 'NYC', '', 6031987, 'A')\n",
      "('Jacob', '1256', 20101012, 20121013, 'MVD', '', 'VIC', 'AU', '', 6031987, 'A')\n"
     ]
    }
   ],
   "source": [
    "import sqlite3\n",
    "db = sqlite3.connect('C:\\\\Users\\\\admin\\\\Desktop\\\\Assignment.db')\n",
    "cursor = db.cursor()\n",
    "cursor.execute('SELECT * FROM My_hospital_data')\n",
    "rows = cursor.fetchall()\n",
    "\n",
    "for row in rows:\n",
    "    print(row)\n",
    "db.commit()\n"
   ]
  },
  {
   "cell_type": "code",
   "execution_count": null,
   "metadata": {},
   "outputs": [],
   "source": []
  }
 ],
 "metadata": {
  "kernelspec": {
   "display_name": "Python 3",
   "language": "python",
   "name": "python3"
  },
  "language_info": {
   "codemirror_mode": {
    "name": "ipython",
    "version": 3
   },
   "file_extension": ".py",
   "mimetype": "text/x-python",
   "name": "python",
   "nbconvert_exporter": "python",
   "pygments_lexer": "ipython3",
   "version": "3.7.3"
  }
 },
 "nbformat": 4,
 "nbformat_minor": 2
}
